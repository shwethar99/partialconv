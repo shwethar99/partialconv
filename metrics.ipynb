{
  "nbformat": 4,
  "nbformat_minor": 0,
  "metadata": {
    "colab": {
      "name": "metrics.ipynb",
      "provenance": [],
      "collapsed_sections": []
    },
    "kernelspec": {
      "name": "python3",
      "display_name": "Python 3"
    },
    "language_info": {
      "name": "python"
    },
    "accelerator": "GPU"
  },
  "cells": [
    {
      "cell_type": "code",
      "metadata": {
        "colab": {
          "base_uri": "https://localhost:8080/"
        },
        "id": "UHeYUgz0ctkt",
        "outputId": "723640ea-f4a8-41cf-ecec-99addbe13659"
      },
      "source": [
        "from google.colab import drive\n",
        "drive.mount('/content/drive')"
      ],
      "execution_count": null,
      "outputs": [
        {
          "output_type": "stream",
          "text": [
            "Mounted at /content/drive\n"
          ],
          "name": "stdout"
        }
      ]
    },
    {
      "cell_type": "code",
      "metadata": {
        "colab": {
          "base_uri": "https://localhost:8080/"
        },
        "id": "cxy65_MacxJT",
        "outputId": "037871eb-7bba-467a-bf11-2c49562714ab"
      },
      "source": [
        "cd /content/drive/My Drive"
      ],
      "execution_count": null,
      "outputs": [
        {
          "output_type": "stream",
          "text": [
            "/content/drive/My Drive\n"
          ],
          "name": "stdout"
        }
      ]
    },
    {
      "cell_type": "code",
      "metadata": {
        "id": "Ive9zuSHc2Q3"
      },
      "source": [
        "import cv2\n",
        "from skimage.measure import compare_ssim\n",
        "import imutils"
      ],
      "execution_count": null,
      "outputs": []
    },
    {
      "cell_type": "code",
      "metadata": {
        "id": "CoVwtmtQf6Gv"
      },
      "source": [
        "from math import log10, sqrt\n",
        "import cv2\n",
        "import numpy as np\n",
        "def PSNR(original, compressed):\n",
        "    mse = np.mean((original - compressed) ** 2)\n",
        "    if(mse == 0):  # MSE is zero means no noise is present in the signal .\n",
        "                  # Therefore PSNR have no importance.\n",
        "        return 100\n",
        "    max_pixel = 255.0\n",
        "    psnr = 20 * log10(max_pixel / sqrt(mse))\n",
        "    return psnr"
      ],
      "execution_count": null,
      "outputs": []
    },
    {
      "cell_type": "code",
      "metadata": {
        "id": "LkNjjzKKg2JF"
      },
      "source": [
        "import numpy as np\n",
        "def mse(imageA, imageB):\n",
        "  mse = np.mean((imageA - imageB) ** 2)\n",
        "  return mse"
      ],
      "execution_count": null,
      "outputs": []
    },
    {
      "cell_type": "markdown",
      "metadata": {
        "id": "7zvSoRjxfvzu"
      },
      "source": [
        "Original vs Sender\n"
      ]
    },
    {
      "cell_type": "code",
      "metadata": {
        "id": "TPfM1cLudeMo"
      },
      "source": [
        "#SSIM\n",
        "imageA = cv2.imread(\"/content/drive/MyDrive/Label_resize.jpg\")\n",
        "imageB = cv2.imread(\"/content/drive/My Drive/training_stage_images/y_pred_noactlr10.jpg\")"
      ],
      "execution_count": null,
      "outputs": []
    },
    {
      "cell_type": "code",
      "metadata": {
        "id": "KmOrQ3DAd3Al"
      },
      "source": [
        "grayA = cv2.cvtColor(imageA, cv2.COLOR_BGR2GRAY)\n",
        "grayB = cv2.cvtColor(imageB, cv2.COLOR_BGR2GRAY)"
      ],
      "execution_count": null,
      "outputs": []
    },
    {
      "cell_type": "code",
      "metadata": {
        "colab": {
          "base_uri": "https://localhost:8080/"
        },
        "id": "a8VsOfJOd6c5",
        "outputId": "efae1d38-9446-44b5-d4f2-7090ffebd24e"
      },
      "source": [
        "(score, diff) = compare_ssim(grayA, grayB, full=True)\n",
        "diff = (diff * 255).astype(\"uint8\")\n",
        "\n",
        "print(\"SSIM: {}\".format(score))"
      ],
      "execution_count": null,
      "outputs": [
        {
          "output_type": "stream",
          "text": [
            "SSIM: 0.9192462548263043\n"
          ],
          "name": "stdout"
        },
        {
          "output_type": "stream",
          "text": [
            "/usr/local/lib/python3.7/dist-packages/ipykernel_launcher.py:1: UserWarning: DEPRECATED: skimage.measure.compare_ssim has been moved to skimage.metrics.structural_similarity. It will be removed from skimage.measure in version 0.18.\n",
            "  \"\"\"Entry point for launching an IPython kernel.\n"
          ],
          "name": "stderr"
        }
      ]
    },
    {
      "cell_type": "code",
      "metadata": {
        "colab": {
          "base_uri": "https://localhost:8080/"
        },
        "id": "hlVBaKC5f9Ul",
        "outputId": "b9106544-18e0-46eb-fd22-c8b67c93e42a"
      },
      "source": [
        "#PSNR\n",
        "value=PSNR(imageA, imageB)\n",
        "print(f\"PSNR value is {value} dB\")"
      ],
      "execution_count": null,
      "outputs": [
        {
          "output_type": "stream",
          "text": [
            "PSNR value is 33.670668027667254 dB\n"
          ],
          "name": "stdout"
        }
      ]
    },
    {
      "cell_type": "code",
      "metadata": {
        "colab": {
          "base_uri": "https://localhost:8080/"
        },
        "id": "Y-642QRwhaP6",
        "outputId": "14868e67-4f59-4ffc-d12b-86efa3c5f86e"
      },
      "source": [
        "print(\"mse value:\",mse(imageA,imageB))"
      ],
      "execution_count": null,
      "outputs": [
        {
          "output_type": "stream",
          "text": [
            "mse value: 27.926310221354168\n"
          ],
          "name": "stdout"
        }
      ]
    },
    {
      "cell_type": "markdown",
      "metadata": {
        "id": "YjwiIkO2f2M4"
      },
      "source": [
        "Sender vs Receiver "
      ]
    },
    {
      "cell_type": "code",
      "metadata": {
        "id": "W_TlJ9CVeZYk"
      },
      "source": [
        "#SSIM\n",
        "imageC = cv2.imread(\"/content/drive/MyDrive/training_stage_images/y_pred_noactlr10_receiver.jpg\")\n",
        "imageD = cv2.imread(\"/content/drive/My Drive/training_stage_images/y_pred_noactlr10.jpg\")"
      ],
      "execution_count": null,
      "outputs": []
    },
    {
      "cell_type": "code",
      "metadata": {
        "id": "RiGCfOv6emdV"
      },
      "source": [
        "grayC = cv2.cvtColor(imageC, cv2.COLOR_BGR2GRAY)\n",
        "grayD = cv2.cvtColor(imageD, cv2.COLOR_BGR2GRAY)"
      ],
      "execution_count": null,
      "outputs": []
    },
    {
      "cell_type": "code",
      "metadata": {
        "colab": {
          "base_uri": "https://localhost:8080/"
        },
        "id": "AiN9yR6le7mD",
        "outputId": "05a88659-426e-44b4-9ac8-a1477744f020"
      },
      "source": [
        "(score, diff) = compare_ssim(grayC, grayD, full=True)\n",
        "diff = (diff * 255).astype(\"uint8\")\n",
        "\n",
        "print(\"SSIM: {}\".format(score))"
      ],
      "execution_count": null,
      "outputs": [
        {
          "output_type": "stream",
          "text": [
            "SSIM: 1.0\n"
          ],
          "name": "stdout"
        },
        {
          "output_type": "stream",
          "text": [
            "/usr/local/lib/python3.7/dist-packages/ipykernel_launcher.py:1: UserWarning: DEPRECATED: skimage.measure.compare_ssim has been moved to skimage.metrics.structural_similarity. It will be removed from skimage.measure in version 0.18.\n",
            "  \"\"\"Entry point for launching an IPython kernel.\n"
          ],
          "name": "stderr"
        }
      ]
    },
    {
      "cell_type": "code",
      "metadata": {
        "colab": {
          "base_uri": "https://localhost:8080/"
        },
        "id": "3tnuG8hQgdTI",
        "outputId": "a1f26a87-b8bf-47e8-9e16-700710940fd9"
      },
      "source": [
        "#PSNR\n",
        "value=PSNR(imageC, imageD)\n",
        "print(f\"PSNR value is {value} dB\")"
      ],
      "execution_count": null,
      "outputs": [
        {
          "output_type": "stream",
          "text": [
            "PSNR value is 100 dB\n"
          ],
          "name": "stdout"
        }
      ]
    },
    {
      "cell_type": "code",
      "metadata": {
        "colab": {
          "base_uri": "https://localhost:8080/"
        },
        "id": "RRBdxHQphrhi",
        "outputId": "2fa91085-31c5-4a00-851e-1ce9c9f991f5"
      },
      "source": [
        "print(\"mse value:\",mse(imageC,imageD))"
      ],
      "execution_count": null,
      "outputs": [
        {
          "output_type": "stream",
          "text": [
            "mse value: 0.0\n"
          ],
          "name": "stdout"
        }
      ]
    }
  ]
}